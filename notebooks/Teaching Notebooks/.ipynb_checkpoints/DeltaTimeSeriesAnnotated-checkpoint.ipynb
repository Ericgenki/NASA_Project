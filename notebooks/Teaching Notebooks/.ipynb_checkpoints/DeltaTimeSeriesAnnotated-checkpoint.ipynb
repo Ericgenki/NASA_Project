{
 "cells": [
  {
   "cell_type": "code",
   "execution_count": 2,
   "id": "3ad33550",
   "metadata": {},
   "outputs": [],
   "source": [
    "#packages to be used\n",
    "from satpy import Scene, find_files_and_readers\n",
    "from pyresample import create_area_def\n",
    "from satpy.writers import get_enhanced_image\n",
    "from datetime import datetime\n",
    "import matplotlib.pyplot as plt\n",
    "import numpy as np\n",
    "from glob import glob\n",
    "import cartopy.crs as ccrs\n",
    "import cartopy.feature as cfeature\n",
    "from celluloid import Camera\n",
    "\n",
    "from satpy import MultiScene\n",
    "from satpy.multiscene import timeseries"
   ]
  },
  {
   "cell_type": "code",
   "execution_count": 7,
   "id": "029e1532",
   "metadata": {
    "scrolled": true
   },
   "outputs": [
    {
     "data": {
      "text/plain": [
       "<Figure size 2400x1600 with 0 Axes>"
      ]
     },
     "metadata": {},
     "output_type": "display_data"
    }
   ],
   "source": [
    "# Animation\n",
    "\n",
    "# Generates a list of file names, sorted alphabetically\n",
    "filenames = glob('/Users/ericmorales/Desktop/RS_Files/HC_Delta_TimeSeries/MYD021KM.*')\n",
    "filenames.sort()\n",
    "filenames\n",
    "\n",
    "# 'clip' the day identifier (e.g. 'A2022060') from all file names. This establishes the seperate days that we \n",
    "#     want to make into an animation\n",
    "swats = np.unique([f.split('.')[1] for f in filenames])\n",
    "swats\n",
    "\n",
    "# set extent\n",
    "extent=[-94, 27.5, -88, 30.5]\n",
    "\n",
    "#create area once\n",
    "my_area = create_area_def('my_area', {'proj': 'lcc', 'lon_0': -91., 'lat_0': 29.5, 'lat_1': 29.5, 'lat_2': 29.5},\n",
    "                          width=1500, height=750,\n",
    "                          area_extent=extent, units='degrees')\n",
    "#constants. This is for an outdated, significantly simpler version of the CDOM algorithm we now use\n",
    "A = 0.472; B = 1.48; C = 4.64\n",
    "\n",
    "# establishing a figure for the animation\n",
    "fig =  plt.figure(figsize=(6, 4), dpi=400)\n",
    "camera = Camera(fig)\n",
    "\n",
    "#The loop we'll use. Each iteration makes one frame of the animation.\n",
    "for swat in swats:\n",
    "    # groups the files for each day, so that we can plot them together\n",
    "    dayfiles = glob(base+swat+'*')\n",
    "    # establishes the reader we'll use. This will change depending on what satellite file you're using\n",
    "    scn = Scene(dayfiles, reader='modis_l1b')\n",
    "    # loading channels for CDOM calculation\n",
    "    scn.load(['10','4'])\n",
    "    # loading true color channel\n",
    "    scn.load(['true_color'])\n",
    "\n",
    "    #reproject\n",
    "    new_scn = scn.resample(my_area)\n",
    "\n",
    "    #generate RGB from true color\n",
    "    rgb = get_enhanced_image(new_scn['true_color'])\n",
    "\n",
    "    #calculate aCDOM\n",
    "    aCDOM412 = (np.log((new_scn['10']/new_scn['4'] - A)/ B))/(-C)\n",
    "    aCDOM412 = aCDOM412.compute()\n",
    "\n",
    "    #extract projection and lon lat from products\n",
    "    crs = new_scn['true_color'].attrs['area'].to_cartopy_crs()\n",
    "    lons, lats = new_scn['true_color'].attrs['area'].get_lonlats()\n",
    "\n",
    "    #left true color\n",
    "    ax1 = plt.subplot(1, 2, 1, projection=crs)\n",
    "    rgb.data.plot.imshow(rgb='bands', transform=crs, ax=ax1)\n",
    "    ax1.set_title('True Color')\n",
    "\n",
    "    #right aCDOM\n",
    "    trim = aCDOM412.max().values\n",
    "    ax2 = plt.subplot(1, 2, 2, projection=crs)\n",
    "    #costline with specified resolution\n",
    "    ax2.coastlines(res)\n",
    "    #this is ploting x,y, aCDOM\n",
    "    ax2.pcolormesh(lons, lats, aCDOM412.where(aCDOM412<=trim), transform=ccrs.PlateCarree(),\n",
    "                  vmin=.01, vmax=.3)\n",
    "    #mask the land\n",
    "    ax2.add_feature(cfeature.NaturalEarthFeature(category='physical', \n",
    "                                                name='land', facecolor='grey',\n",
    "                                                scale=res))\n",
    "    ax2.set_title('aCDOM412')\n",
    "    #optimize spacing between plots\n",
    "    fig.tight_layout()\n",
    "    \n",
    "    #for each frame of animation\n",
    "    camera.snap()\n",
    "    \n",
    "    #save. The interval determines the frame rate in miliseconds.\n",
    "animation = camera.animate(interval=1000)\n",
    "animation.save('animation.mp4')"
   ]
  },
  {
   "cell_type": "code",
   "execution_count": null,
   "id": "36fa8863",
   "metadata": {},
   "outputs": [],
   "source": []
  }
 ],
 "metadata": {
  "kernelspec": {
   "display_name": "Python 3 (ipykernel)",
   "language": "python",
   "name": "python3"
  },
  "language_info": {
   "codemirror_mode": {
    "name": "ipython",
    "version": 3
   },
   "file_extension": ".py",
   "mimetype": "text/x-python",
   "name": "python",
   "nbconvert_exporter": "python",
   "pygments_lexer": "ipython3",
   "version": "3.8.18"
  }
 },
 "nbformat": 4,
 "nbformat_minor": 5
}
