{
 "cells": [
  {
   "cell_type": "code",
   "execution_count": 2,
   "id": "c90a6471",
   "metadata": {},
   "outputs": [],
   "source": [
    "from mpl_toolkits.axes_grid1 import AxesGrid\n",
    "import matplotlib.pyplot as plt\n",
    "from glob import glob\n",
    "import xarray as xr\n",
    "import pandas as pd\n",
    "import numpy as np1\n",
    "from pyresample import geometry, create_area_def\n",
    "from satpy import Scene\n",
    "import cartopy.crs as ccrs\n",
    "from cartopy.mpl.geoaxes import GeoAxes\n",
    "import cartopy.feature as cfeature"
   ]
  },
  {
   "cell_type": "code",
   "execution_count": 61,
   "id": "d28ef9d5",
   "metadata": {
    "scrolled": false
   },
   "outputs": [
    {
     "data": {
      "image/png": "[encoded data removed]",
      "text/plain": [
       "<Figure size 1280x960 with 4 Axes>"
      ]
     },
     "metadata": {},
     "output_type": "display_data"
    }
   ],
   "source": [
    "year= ''\n",
    "\n",
    "cfile = glob('/home/hboi-ouri/Projects/RS_Files/MODISGrids/CombinedMODIS/CruiseaCDOM/*MODIS_L2_aCDOM.nc')\n",
    "\n",
    "cfile.sort()\n",
    "\n",
    "lat_0, lon_0 = 28.5, -90.8\n",
    "\n",
    "lat_top=31\n",
    "lat_bot=28\n",
    "lon_left=-88\n",
    "lon_rigth=-91\n",
    "extent=[lon_left, lon_rigth, lat_bot, lat_top]\n",
    "\n",
    "resval = 1000 # resolution of the sat product (300 m for Sentinel and MERIS, 1 km for MODIS)\n",
    "res = xr.DataArray(resval, attrs={\"units\": \"meters\"})\n",
    "\n",
    "\n",
    "\n",
    "land_50m = cfeature.NaturalEarthFeature('physical', 'land', '50m',\n",
    "                                        edgecolor='face',\n",
    "                                        facecolor='grey')\n",
    "\n",
    "projection = ccrs.PlateCarree()\n",
    "axes_class = (GeoAxes,\n",
    "              dict(map_projection=projection))\n",
    "\n",
    "fig = plt.figure(dpi=200) # set fig size\n",
    "\n",
    "axgr = AxesGrid(fig, 111, #axes_class=axes_class,\n",
    "                    nrows_ncols=(2, 2),\n",
    "                    axes_pad=0.3,\n",
    "                    #share_all=True,\n",
    "                    cbar_location='right',\n",
    "                    cbar_mode='single',\n",
    "                    cbar_pad=0.3,\n",
    "                    cbar_size='3%',\n",
    "                    label_mode='L',\n",
    "               )\n",
    "\n",
    "#fig2 = plt.figure(dpi=200) # set fig size\n",
    "\n",
    "# axgr2 = AxesGrid(fig2, 111, axes_class=axes_class,\n",
    "#                     nrows_ncols=(3, 2),\n",
    "#                     axes_pad=0.1,\n",
    "#                     #share_all=True,\n",
    "#                     cbar_location='right',\n",
    "#                     cbar_mode='single',\n",
    "#                     cbar_pad=0.4,\n",
    "#                     cbar_size='3%',\n",
    "#                     label_mode=''\n",
    "#                 )\n",
    "\n",
    "#for axTitle:\n",
    "title = ['Oct 22, 2021 - Nov 14, 2021', 'Jul 15, 2021 - Jul 27, 2021', \n",
    "         'Apr 17, 2022 - Apr 24, 2022', 'Jul 06, 2022 - Jul 28, 2022']\n",
    "\n",
    "\n",
    "for i, ax in enumerate(axgr):\n",
    "    try:\n",
    "        ds = xr.open_dataset(cfile[i])\n",
    "        data = ds.acdom.count('time')\n",
    "        im = data.where(data!=0).plot(ax=axgr[i], vmin=0, vmax=15, x='lon', y='lat', add_colorbar=False) #transform=projection)\n",
    "        ax.set_title(title[i], fontsize=8)\n",
    "        ax.set_ylabel('Latitude')\n",
    "        ax.set_xlabel('Longitude')\n",
    "        ax.add_feature(land_50m)\n",
    "    except:\n",
    "        ax.remove()\n",
    "        pass\n",
    "axgr.cbar_axes[0].colorbar(im)\n",
    "\n",
    "fig.text(0.78, 0.44, 'Counts', size=13, rotation=90)\n",
    "\n",
    "\n",
    "\n",
    "fig.savefig('/home/hboi-ouri/Projects/NASA_ProjectExp/outputs/Tasks/Task2/MODIS_CruiseGridCounts.png')\n",
    "    "
   ]
  },
  {
   "cell_type": "code",
   "execution_count": null,
   "id": "92326b94",
   "metadata": {},
   "outputs": [],
   "source": []
  }
 ],
 "metadata": {
  "kernelspec": {
   "display_name": "Python 3 (ipykernel)",
   "language": "python",
   "name": "python3"
  },
  "language_info": {
   "codemirror_mode": {
    "name": "ipython",
    "version": 3
   },
   "file_extension": ".py",
   "mimetype": "text/x-python",
   "name": "python",
   "nbconvert_exporter": "python",
   "pygments_lexer": "ipython3",
   "version": "3.8.15"
  }
 },
 "nbformat": 4,
 "nbformat_minor": 5
}
